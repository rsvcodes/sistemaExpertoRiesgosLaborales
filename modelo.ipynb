{
  "cells": [
    {
      "cell_type": "code",
      "execution_count": null,
      "id": "cf5dfa01-7c54-404d-a6a9-4693ba1b458c",
      "metadata": {
        "id": "cf5dfa01-7c54-404d-a6a9-4693ba1b458c"
      },
      "outputs": [],
      "source": [
        "import pandas as pd"
      ]
    },
    {
      "cell_type": "code",
      "execution_count": null,
      "id": "313c391e-9600-4931-be4f-b5ecb90865e9",
      "metadata": {
        "id": "313c391e-9600-4931-be4f-b5ecb90865e9"
      },
      "outputs": [],
      "source": [
        "df_riesgos = pd.read_excel('datos_seleccionados_modelo.xlsx', index_col=0)"
      ]
    },
    {
      "cell_type": "code",
      "execution_count": null,
      "id": "0a586b8e-a63f-4202-936f-ba85e47159ec",
      "metadata": {
        "id": "0a586b8e-a63f-4202-936f-ba85e47159ec",
        "outputId": "6585a8b9-706a-4667-c21e-1f5716b99976"
      },
      "outputs": [
        {
          "data": {
            "text/html": [
              "<div>\n",
              "<style scoped>\n",
              "    .dataframe tbody tr th:only-of-type {\n",
              "        vertical-align: middle;\n",
              "    }\n",
              "\n",
              "    .dataframe tbody tr th {\n",
              "        vertical-align: top;\n",
              "    }\n",
              "\n",
              "    .dataframe thead th {\n",
              "        text-align: right;\n",
              "    }\n",
              "</style>\n",
              "<table border=\"1\" class=\"dataframe\">\n",
              "  <thead>\n",
              "    <tr style=\"text-align: right;\">\n",
              "      <th></th>\n",
              "      <th>sectorEmpresa</th>\n",
              "      <th>ixRiesgo</th>\n",
              "      <th>ixPuesto</th>\n",
              "      <th>Incongruencia</th>\n",
              "    </tr>\n",
              "  </thead>\n",
              "  <tbody>\n",
              "    <tr>\n",
              "      <th>181657</th>\n",
              "      <td>0. Otros</td>\n",
              "      <td>1</td>\n",
              "      <td>6</td>\n",
              "      <td>1</td>\n",
              "    </tr>\n",
              "    <tr>\n",
              "      <th>181658</th>\n",
              "      <td>0. Otros</td>\n",
              "      <td>1</td>\n",
              "      <td>6</td>\n",
              "      <td>1</td>\n",
              "    </tr>\n",
              "    <tr>\n",
              "      <th>...</th>\n",
              "      <td>...</td>\n",
              "      <td>...</td>\n",
              "      <td>...</td>\n",
              "      <td>...</td>\n",
              "    </tr>\n",
              "    <tr>\n",
              "      <th>80479</th>\n",
              "      <td>9. Servicios</td>\n",
              "      <td>47</td>\n",
              "      <td>1</td>\n",
              "      <td>1</td>\n",
              "    </tr>\n",
              "    <tr>\n",
              "      <th>80510</th>\n",
              "      <td>9. Servicios</td>\n",
              "      <td>47</td>\n",
              "      <td>1</td>\n",
              "      <td>1</td>\n",
              "    </tr>\n",
              "  </tbody>\n",
              "</table>\n",
              "<p>252857 rows × 4 columns</p>\n",
              "</div>"
            ],
            "text/plain": [
              "       sectorEmpresa  ixRiesgo  ixPuesto  Incongruencia\n",
              "181657      0. Otros         1         6              1\n",
              "181658      0. Otros         1         6              1\n",
              "...              ...       ...       ...            ...\n",
              "80479   9. Servicios        47         1              1\n",
              "80510   9. Servicios        47         1              1\n",
              "\n",
              "[252857 rows x 4 columns]"
            ]
          },
          "execution_count": 7,
          "metadata": {},
          "output_type": "execute_result"
        }
      ],
      "source": [
        "df_riesgos"
      ]
    },
    {
      "cell_type": "code",
      "execution_count": null,
      "id": "a8346e83-c3d9-4371-9034-1b5dd54c70ca",
      "metadata": {
        "id": "a8346e83-c3d9-4371-9034-1b5dd54c70ca"
      },
      "outputs": [],
      "source": [
        "from sklearn.preprocessing import OneHotEncoder"
      ]
    },
    {
      "cell_type": "code",
      "execution_count": null,
      "id": "e8bfce72-f039-48a3-aa1b-fbeb0fd2bfa8",
      "metadata": {
        "id": "e8bfce72-f039-48a3-aa1b-fbeb0fd2bfa8"
      },
      "outputs": [],
      "source": [
        "ohe = OneHotEncoder(sparse=False)"
      ]
    },
    {
      "cell_type": "code",
      "execution_count": null,
      "id": "a14cca35-a369-4d66-ad01-64ae5ebca374",
      "metadata": {
        "id": "a14cca35-a369-4d66-ad01-64ae5ebca374"
      },
      "outputs": [],
      "source": [
        "ohe_data = ohe.fit_transform(df_riesgos[['sectorEmpresa', 'ixRiesgo', 'ixPuesto']])"
      ]
    },
    {
      "cell_type": "code",
      "execution_count": null,
      "id": "16b27e2a-b206-417c-9475-ad94856f0f3b",
      "metadata": {
        "id": "16b27e2a-b206-417c-9475-ad94856f0f3b"
      },
      "outputs": [],
      "source": [
        "cols = ohe.get_feature_names_out()"
      ]
    },
    {
      "cell_type": "code",
      "execution_count": null,
      "id": "11bcc387-f566-4f7c-8058-99c945864964",
      "metadata": {
        "id": "11bcc387-f566-4f7c-8058-99c945864964"
      },
      "outputs": [],
      "source": [
        "X = pd.DataFrame(ohe_data, columns=cols)"
      ]
    },
    {
      "cell_type": "code",
      "execution_count": null,
      "id": "4676dbd6-6030-4628-b12c-ad84194ea4d5",
      "metadata": {
        "id": "4676dbd6-6030-4628-b12c-ad84194ea4d5"
      },
      "outputs": [],
      "source": [
        "y = df_riesgos.Incongruencia"
      ]
    },
    {
      "cell_type": "code",
      "execution_count": null,
      "id": "82be4d65-627c-41d8-b444-91dcd9e1dda1",
      "metadata": {
        "id": "82be4d65-627c-41d8-b444-91dcd9e1dda1"
      },
      "outputs": [],
      "source": []
    },
    {
      "cell_type": "code",
      "execution_count": null,
      "id": "6527c82b-1d97-48c8-a660-9ccbedcca12d",
      "metadata": {
        "id": "6527c82b-1d97-48c8-a660-9ccbedcca12d"
      },
      "outputs": [],
      "source": [
        "from tensorflow.keras import Sequential\n",
        "from tensorflow.keras.layers import Dense, Dropout\n",
        "\n",
        "import tensorflow as tf"
      ]
    },
    {
      "cell_type": "code",
      "execution_count": null,
      "id": "b2191018-ff8c-4464-9988-1bfb276e5426",
      "metadata": {
        "id": "b2191018-ff8c-4464-9988-1bfb276e5426",
        "outputId": "5d39c9e6-5f3c-4f1d-fb17-c5070ab0c7c9"
      },
      "outputs": [
        {
          "name": "stdout",
          "output_type": "stream",
          "text": [
            "Epoch 1/5\n"
          ]
        },
        {
          "name": "stderr",
          "output_type": "stream",
          "text": [
            "/Users/sota/miniforge3/envs/deep_learning/lib/python3.10/site-packages/keras/backend.py:5673: UserWarning: \"`binary_crossentropy` received `from_logits=True`, but the `output` argument was produced by a Sigmoid activation and thus does not represent logits. Was this intended?\n",
            "  output, from_logits = _get_logits(\n",
            "2023-02-09 21:22:26.440875: I tensorflow/core/grappler/optimizers/custom_graph_optimizer_registry.cc:114] Plugin optimizer for device_type GPU is enabled.\n"
          ]
        },
        {
          "name": "stdout",
          "output_type": "stream",
          "text": [
            "1976/1976 [==============================] - 12s 6ms/step - loss: 0.0519 - accuracy: 0.9847\n",
            "Epoch 2/5\n",
            "1976/1976 [==============================] - 11s 6ms/step - loss: 0.0217 - accuracy: 0.9935\n",
            "Epoch 3/5\n",
            "1976/1976 [==============================] - 12s 6ms/step - loss: 0.0200 - accuracy: 0.9938\n",
            "Epoch 4/5\n",
            "1976/1976 [==============================] - 11s 6ms/step - loss: 0.0193 - accuracy: 0.9939\n",
            "Epoch 5/5\n",
            "1976/1976 [==============================] - 11s 6ms/step - loss: 0.0189 - accuracy: 0.9939\n"
          ]
        },
        {
          "data": {
            "text/plain": [
              "<keras.callbacks.History at 0x2caa1ac80>"
            ]
          },
          "execution_count": 50,
          "metadata": {},
          "output_type": "execute_result"
        }
      ],
      "source": [
        "model = tf.keras.Sequential([\n",
        "  # feature_layer,\n",
        "  Dense(128, activation='relu'),\n",
        "  Dense(128, activation='relu'),\n",
        "  Dropout(.1),\n",
        "  Dense(1, activation='sigmoid')\n",
        "])\n",
        "\n",
        "model.compile(optimizer='adam',\n",
        "              loss=tf.keras.losses.BinaryCrossentropy(from_logits=True),\n",
        "              metrics=['accuracy'])\n",
        "\n",
        "model.fit(X, y, epochs=5, batch_size=128)"
      ]
    },
    {
      "cell_type": "code",
      "execution_count": null,
      "id": "de60a814-d94b-45bf-884c-4a2c6da13fc3",
      "metadata": {
        "id": "de60a814-d94b-45bf-884c-4a2c6da13fc3"
      },
      "outputs": [],
      "source": [
        "df_to_pred = pd.DataFrame({\n",
        "    'sectorEmpresa': '1. Construcción',\n",
        "    'ixRiesgo': 1,\n",
        "    'ixPuesto': 7\n",
        "}, index=[0])"
      ]
    },
    {
      "cell_type": "code",
      "execution_count": null,
      "id": "1db9c126-bf53-45ab-98ec-741e150ecd86",
      "metadata": {
        "id": "1db9c126-bf53-45ab-98ec-741e150ecd86",
        "outputId": "542bea60-6bcd-430c-cc87-66892ea9f856"
      },
      "outputs": [
        {
          "data": {
            "text/html": [
              "<div>\n",
              "<style scoped>\n",
              "    .dataframe tbody tr th:only-of-type {\n",
              "        vertical-align: middle;\n",
              "    }\n",
              "\n",
              "    .dataframe tbody tr th {\n",
              "        vertical-align: top;\n",
              "    }\n",
              "\n",
              "    .dataframe thead th {\n",
              "        text-align: right;\n",
              "    }\n",
              "</style>\n",
              "<table border=\"1\" class=\"dataframe\">\n",
              "  <thead>\n",
              "    <tr style=\"text-align: right;\">\n",
              "      <th></th>\n",
              "      <th>sectorEmpresa</th>\n",
              "      <th>ixRiesgo</th>\n",
              "      <th>ixPuesto</th>\n",
              "    </tr>\n",
              "  </thead>\n",
              "  <tbody>\n",
              "    <tr>\n",
              "      <th>0</th>\n",
              "      <td>1. Construcción</td>\n",
              "      <td>1</td>\n",
              "      <td>7</td>\n",
              "    </tr>\n",
              "  </tbody>\n",
              "</table>\n",
              "</div>"
            ],
            "text/plain": [
              "     sectorEmpresa  ixRiesgo  ixPuesto\n",
              "0  1. Construcción         1         7"
            ]
          },
          "execution_count": 52,
          "metadata": {},
          "output_type": "execute_result"
        }
      ],
      "source": [
        "df_to_pred"
      ]
    },
    {
      "cell_type": "code",
      "execution_count": null,
      "id": "47af736f-7158-495e-971f-abe6b48da42d",
      "metadata": {
        "id": "47af736f-7158-495e-971f-abe6b48da42d"
      },
      "outputs": [],
      "source": [
        "X_to_pred = ohe.transform(df_to_pred)"
      ]
    },
    {
      "cell_type": "code",
      "execution_count": null,
      "id": "1d219a2b-217e-4860-be56-1c25899ae369",
      "metadata": {
        "id": "1d219a2b-217e-4860-be56-1c25899ae369",
        "outputId": "f1f530aa-c43e-4700-ec13-82bad9fec050"
      },
      "outputs": [
        {
          "name": "stdout",
          "output_type": "stream",
          "text": [
            "1/1 [==============================] - 0s 68ms/step\n"
          ]
        },
        {
          "name": "stderr",
          "output_type": "stream",
          "text": [
            "2023-02-09 21:27:18.338484: I tensorflow/core/grappler/optimizers/custom_graph_optimizer_registry.cc:114] Plugin optimizer for device_type GPU is enabled.\n"
          ]
        },
        {
          "data": {
            "text/plain": [
              "array([[0.00271205]], dtype=float32)"
            ]
          },
          "execution_count": 54,
          "metadata": {},
          "output_type": "execute_result"
        }
      ],
      "source": [
        "model.predict(X_to_pred)"
      ]
    },
    {
      "cell_type": "code",
      "execution_count": null,
      "id": "d9395477-5311-44f3-918d-a6ef183f7f30",
      "metadata": {
        "id": "d9395477-5311-44f3-918d-a6ef183f7f30",
        "outputId": "f4d7325b-14d5-4e4b-fda1-3135929c9333"
      },
      "outputs": [
        {
          "data": {
            "text/html": [
              "<div>\n",
              "<style scoped>\n",
              "    .dataframe tbody tr th:only-of-type {\n",
              "        vertical-align: middle;\n",
              "    }\n",
              "\n",
              "    .dataframe tbody tr th {\n",
              "        vertical-align: top;\n",
              "    }\n",
              "\n",
              "    .dataframe thead th {\n",
              "        text-align: right;\n",
              "    }\n",
              "</style>\n",
              "<table border=\"1\" class=\"dataframe\">\n",
              "  <thead>\n",
              "    <tr style=\"text-align: right;\">\n",
              "      <th></th>\n",
              "      <th>sectorEmpresa</th>\n",
              "      <th>ixRiesgo</th>\n",
              "      <th>ixPuesto</th>\n",
              "      <th>Incongruencia</th>\n",
              "    </tr>\n",
              "  </thead>\n",
              "  <tbody>\n",
              "    <tr>\n",
              "      <th>242658</th>\n",
              "      <td>1. Construcción</td>\n",
              "      <td>1</td>\n",
              "      <td>2</td>\n",
              "      <td>1</td>\n",
              "    </tr>\n",
              "    <tr>\n",
              "      <th>242881</th>\n",
              "      <td>1. Construcción</td>\n",
              "      <td>261</td>\n",
              "      <td>1</td>\n",
              "      <td>1</td>\n",
              "    </tr>\n",
              "    <tr>\n",
              "      <th>...</th>\n",
              "      <td>...</td>\n",
              "      <td>...</td>\n",
              "      <td>...</td>\n",
              "      <td>...</td>\n",
              "    </tr>\n",
              "    <tr>\n",
              "      <th>251189</th>\n",
              "      <td>1. Construcción</td>\n",
              "      <td>260</td>\n",
              "      <td>6</td>\n",
              "      <td>1</td>\n",
              "    </tr>\n",
              "    <tr>\n",
              "      <th>251190</th>\n",
              "      <td>1. Construcción</td>\n",
              "      <td>260</td>\n",
              "      <td>6</td>\n",
              "      <td>1</td>\n",
              "    </tr>\n",
              "  </tbody>\n",
              "</table>\n",
              "<p>1769 rows × 4 columns</p>\n",
              "</div>"
            ],
            "text/plain": [
              "          sectorEmpresa  ixRiesgo  ixPuesto  Incongruencia\n",
              "242658  1. Construcción         1         2              1\n",
              "242881  1. Construcción       261         1              1\n",
              "...                 ...       ...       ...            ...\n",
              "251189  1. Construcción       260         6              1\n",
              "251190  1. Construcción       260         6              1\n",
              "\n",
              "[1769 rows x 4 columns]"
            ]
          },
          "execution_count": 68,
          "metadata": {},
          "output_type": "execute_result"
        }
      ],
      "source": [
        "df_riesgos.query('Incongruencia == 1 & sectorEmpresa == \"1. Construcción\"')"
      ]
    },
    {
      "cell_type": "code",
      "execution_count": null,
      "id": "40a0cc3a-cf4d-4401-a928-11b08a28a930",
      "metadata": {
        "id": "40a0cc3a-cf4d-4401-a928-11b08a28a930"
      },
      "outputs": [],
      "source": [
        "df_to_pred = pd.DataFrame({\n",
        "    'sectorEmpresa': '1. Construcción',\n",
        "    'ixRiesgo': 1,\n",
        "    'ixPuesto': 2\n",
        "}, index=[0])"
      ]
    },
    {
      "cell_type": "code",
      "execution_count": null,
      "id": "a3bb9bae-0095-4efa-95b0-7965a42b05a6",
      "metadata": {
        "id": "a3bb9bae-0095-4efa-95b0-7965a42b05a6",
        "outputId": "69c6d007-3499-4064-d2aa-435650581ae3"
      },
      "outputs": [
        {
          "data": {
            "text/html": [
              "<div>\n",
              "<style scoped>\n",
              "    .dataframe tbody tr th:only-of-type {\n",
              "        vertical-align: middle;\n",
              "    }\n",
              "\n",
              "    .dataframe tbody tr th {\n",
              "        vertical-align: top;\n",
              "    }\n",
              "\n",
              "    .dataframe thead th {\n",
              "        text-align: right;\n",
              "    }\n",
              "</style>\n",
              "<table border=\"1\" class=\"dataframe\">\n",
              "  <thead>\n",
              "    <tr style=\"text-align: right;\">\n",
              "      <th></th>\n",
              "      <th>sectorEmpresa</th>\n",
              "      <th>ixRiesgo</th>\n",
              "      <th>ixPuesto</th>\n",
              "    </tr>\n",
              "  </thead>\n",
              "  <tbody>\n",
              "    <tr>\n",
              "      <th>0</th>\n",
              "      <td>1. Construcción</td>\n",
              "      <td>1</td>\n",
              "      <td>2</td>\n",
              "    </tr>\n",
              "  </tbody>\n",
              "</table>\n",
              "</div>"
            ],
            "text/plain": [
              "     sectorEmpresa  ixRiesgo  ixPuesto\n",
              "0  1. Construcción         1         2"
            ]
          },
          "execution_count": 70,
          "metadata": {},
          "output_type": "execute_result"
        }
      ],
      "source": [
        "df_to_pred"
      ]
    },
    {
      "cell_type": "code",
      "execution_count": null,
      "id": "427e4574-9946-43c3-b2b2-b7f2d559d1a6",
      "metadata": {
        "id": "427e4574-9946-43c3-b2b2-b7f2d559d1a6"
      },
      "outputs": [],
      "source": [
        "X_to_pred = ohe.transform(df_to_pred)"
      ]
    },
    {
      "cell_type": "code",
      "execution_count": null,
      "id": "91ebd3c6-76d1-40de-b35f-c482b99233d6",
      "metadata": {
        "id": "91ebd3c6-76d1-40de-b35f-c482b99233d6",
        "outputId": "2f28b6be-257f-448a-cd68-3ffc7583c6f9"
      },
      "outputs": [
        {
          "name": "stdout",
          "output_type": "stream",
          "text": [
            "1/1 [==============================] - 0s 17ms/step\n"
          ]
        },
        {
          "data": {
            "text/plain": [
              "array([[0.07982568]], dtype=float32)"
            ]
          },
          "execution_count": 72,
          "metadata": {},
          "output_type": "execute_result"
        }
      ],
      "source": [
        "model.predict(X_to_pred)"
      ]
    },
    {
      "cell_type": "code",
      "execution_count": null,
      "id": "5cb5ca53-ca6a-40d8-9876-70ef32b7bd82",
      "metadata": {
        "id": "5cb5ca53-ca6a-40d8-9876-70ef32b7bd82"
      },
      "outputs": [],
      "source": [
        "df_to_pred = pd.DataFrame({\n",
        "    'sectorEmpresa': '1. Construcción',\n",
        "    'ixRiesgo': 261,\n",
        "    'ixPuesto': 2\n",
        "}, index=[0])"
      ]
    },
    {
      "cell_type": "code",
      "execution_count": null,
      "id": "834d2ee7-9ee8-4e32-b7d4-b02d88552ddc",
      "metadata": {
        "id": "834d2ee7-9ee8-4e32-b7d4-b02d88552ddc",
        "outputId": "54d83599-02ac-4399-dfdc-b6615e740348"
      },
      "outputs": [
        {
          "data": {
            "text/html": [
              "<div>\n",
              "<style scoped>\n",
              "    .dataframe tbody tr th:only-of-type {\n",
              "        vertical-align: middle;\n",
              "    }\n",
              "\n",
              "    .dataframe tbody tr th {\n",
              "        vertical-align: top;\n",
              "    }\n",
              "\n",
              "    .dataframe thead th {\n",
              "        text-align: right;\n",
              "    }\n",
              "</style>\n",
              "<table border=\"1\" class=\"dataframe\">\n",
              "  <thead>\n",
              "    <tr style=\"text-align: right;\">\n",
              "      <th></th>\n",
              "      <th>sectorEmpresa</th>\n",
              "      <th>ixRiesgo</th>\n",
              "      <th>ixPuesto</th>\n",
              "    </tr>\n",
              "  </thead>\n",
              "  <tbody>\n",
              "    <tr>\n",
              "      <th>0</th>\n",
              "      <td>1. Construcción</td>\n",
              "      <td>261</td>\n",
              "      <td>2</td>\n",
              "    </tr>\n",
              "  </tbody>\n",
              "</table>\n",
              "</div>"
            ],
            "text/plain": [
              "     sectorEmpresa  ixRiesgo  ixPuesto\n",
              "0  1. Construcción       261         2"
            ]
          },
          "execution_count": 74,
          "metadata": {},
          "output_type": "execute_result"
        }
      ],
      "source": [
        "df_to_pred"
      ]
    },
    {
      "cell_type": "code",
      "execution_count": null,
      "id": "11f8ec12-55af-413d-86a7-26a5df8c697e",
      "metadata": {
        "id": "11f8ec12-55af-413d-86a7-26a5df8c697e"
      },
      "outputs": [],
      "source": [
        "X_to_pred = ohe.transform(df_to_pred)"
      ]
    },
    {
      "cell_type": "code",
      "execution_count": null,
      "id": "0f689592-7b11-4ea2-8af0-530256fed44b",
      "metadata": {
        "id": "0f689592-7b11-4ea2-8af0-530256fed44b",
        "outputId": "23d02c56-6cd1-4af4-d803-8fc9d614a3eb"
      },
      "outputs": [
        {
          "name": "stdout",
          "output_type": "stream",
          "text": [
            "1/1 [==============================] - 0s 16ms/step\n"
          ]
        },
        {
          "data": {
            "text/plain": [
              "array([[0.9900108]], dtype=float32)"
            ]
          },
          "execution_count": 76,
          "metadata": {},
          "output_type": "execute_result"
        }
      ],
      "source": [
        "model.predict(X_to_pred)"
      ]
    }
  ],
  "metadata": {
    "kernelspec": {
      "display_name": "Python (deep_learning)",
      "language": "python",
      "name": "deep_learning"
    },
    "language_info": {
      "codemirror_mode": {
        "name": "ipython",
        "version": 3
      },
      "file_extension": ".py",
      "mimetype": "text/x-python",
      "name": "python",
      "nbconvert_exporter": "python",
      "pygments_lexer": "ipython3",
      "version": "3.10.6"
    },
    "colab": {
      "provenance": []
    }
  },
  "nbformat": 4,
  "nbformat_minor": 5
}